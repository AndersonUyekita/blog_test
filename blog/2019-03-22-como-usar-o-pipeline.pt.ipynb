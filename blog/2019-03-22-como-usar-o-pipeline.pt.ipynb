{
 "cells": [
  {
   "cell_type": "markdown",
   "metadata": {},
   "source": [
    "# Como usar o `Pipeline`\n",
    "\n",
    "#### Tags\n",
    "\n",
    "* Autor: AH Uyekita\n",
    "* Data: 23/03/22\n",
    "* Post: [Como usar o `Pipeline`][post_url]\n",
    "\n",
    "[post_url]: https://andersonuyekita.github.io/notebooks/blog/como-usar-o-pipepline/\n",
    "\n",
    "#### Descrição\n",
    "\n",
    "Esse é um arquivo de acompanhamento do _post_ de mesmo nome.\n",
    "\n",
    "***\n",
    "\n",
    "### Índice\n",
    "- [1. Kernel](#1)\n",
    "- [2. Importação dos _Packages_](#2)\n",
    "- [3. _Datasets_](#3)\n",
    "- [4. _Classifiers_](#4)\n",
    "- [5. Análise dos Resultados](#5)\n",
    "- [6. _Cross Validation_](#6)\n",
    "- [7. _Scoring_](#7)\n",
    "- [8. Técnicas Avançadas](#8)\n",
    "- [9. Conclusões](#9)\n",
    "- [10. Versões dos Packages](#10)\n",
    "\n",
    "***\n",
    "\n",
    "### 1. Kernel <a id='1'></a>\n",
    "\n",
    "Foi usado o Python 3.7, conforme pode ser confirmado abaixo."
   ]
  },
  {
   "cell_type": "code",
   "execution_count": null,
   "metadata": {},
   "outputs": [],
   "source": []
  }
 ],
 "metadata": {
  "kernelspec": {
   "display_name": "Python 3",
   "language": "python",
   "name": "python3"
  },
  "language_info": {
   "codemirror_mode": {
    "name": "ipython",
    "version": 3
   },
   "file_extension": ".py",
   "mimetype": "text/x-python",
   "name": "python",
   "nbconvert_exporter": "python",
   "pygments_lexer": "ipython3",
   "version": "3.7.1"
  }
 },
 "nbformat": 4,
 "nbformat_minor": 2
}
